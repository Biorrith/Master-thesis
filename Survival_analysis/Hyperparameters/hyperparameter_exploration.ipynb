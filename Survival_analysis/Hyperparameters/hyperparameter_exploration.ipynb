{
 "cells": [
  {
   "cell_type": "code",
   "execution_count": 1,
   "metadata": {},
   "outputs": [],
   "source": [
    "import yaml\n",
    "import sys\n",
    "\n",
    "sys.path.append('../../')\n",
    "from Utils.Get_adni import post_imputation_adni\n",
    "\n",
    "from sksurv.datasets import get_x_y\n",
    "from sksurv.ensemble import RandomSurvivalForest\n",
    "from loguru import logger\n",
    "#Grid search with cross-validation\n",
    "from sklearn.model_selection import GridSearchCV, KFold\n",
    "from sksurv.ensemble import RandomSurvivalForest\n"
   ]
  },
  {
   "cell_type": "markdown",
   "metadata": {},
   "source": [
    "# Random Survival Forest hyperparameter search "
   ]
  },
  {
   "cell_type": "code",
   "execution_count": 5,
   "metadata": {},
   "outputs": [],
   "source": [
    "#Inspect what hyperparameters works the best, but only on the first dataset\n",
    "from sksurv.metrics import as_concordance_index_ipcw_scorer, concordance_index_censored\n",
    "\n",
    "def hyperparameter_search(df_train, name):\n",
    "    param_grid = {\n",
    "        'n_estimators': [200, 400, 600, 800],\n",
    "        'min_samples_split': [3, 5, 10],\n",
    "        'min_samples_leaf': [3, 5, 10, 15],\n",
    "        'max_features': ['sqrt', 'log2']\n",
    "    }\n",
    "\n",
    "    random_state = 42\n",
    "\n",
    "    rsf_test = RandomSurvivalForest(n_jobs=-1, random_state=random_state)\n",
    "\n",
    "    cv = KFold(n_splits=5) #, random_state=random_state, shuffle=True\n",
    "    \n",
    "    as_concordance_index_ipcw_scorer(rsf_test)\n",
    "    grid_search = GridSearchCV(rsf_test, \n",
    "                            param_grid, \n",
    "                            cv=cv, \n",
    "                            error_score=0.5,\n",
    "                            n_jobs=12, \n",
    "                            verbose=3)\n",
    "\n",
    "    x_train, y_train = get_x_y(df_train, attr_labels=[\"Event\", \"M\"], pos_label=1)\n",
    "\n",
    "    grid_search.fit(x_train, y_train)\n",
    "\n",
    "    # Optionally, print the best parameters and best score\n",
    "    logger.info(\"Best parameters:\", grid_search.best_params_)\n",
    "    logger.info(\"Best score:\", grid_search.best_score_)\n",
    "\n",
    "    filepath = f'./ADNI_{name}.yaml'\n",
    "\n",
    "    best_params = grid_search.best_params_\n",
    "    best_score = float(grid_search.best_score_)\n",
    "\n",
    "    best_details = {\n",
    "        'Best Parameters': best_params,\n",
    "        'Best Score': best_score\n",
    "    }\n",
    "\n",
    "    with open(filepath, 'w') as file:\n",
    "        yaml.dump(best_details, file, default_flow_style=False)\n",
    "    return best_params, best_score\n"
   ]
  },
  {
   "cell_type": "code",
   "execution_count": 6,
   "metadata": {},
   "outputs": [
    {
     "name": "stderr",
     "output_type": "stream",
     "text": [
      "\u001b[32m2024-05-31 15:26:33.463\u001b[0m | \u001b[1mINFO    \u001b[0m | \u001b[36m__main__\u001b[0m:\u001b[36m<module>\u001b[0m:\u001b[36m22\u001b[0m - \u001b[1mConfig: {'cohort': ['ADNI1', 'ADNI2', 'ADNI3', 'ADNIGO'], 'device': 'cpu', 'directory_name': 'Merge_BL', 'drop_empty_dx': True, 'fill_dx': True, 'missing_value_cutoff': 0.6, 'num_datasets': 20, 'num_iterations': 20, 'num_threads': 14, 'prepare_sa': True, 'quality': False, 'random_state': 1991, 'save_all_iterations': True, 'set_mean_match_candidates': 5, 'train_test_split': 0.2}\u001b[0m\n",
      "\u001b[32m2024-05-31 15:26:33.465\u001b[0m | \u001b[1mINFO    \u001b[0m | \u001b[36m__main__\u001b[0m:\u001b[36m<module>\u001b[0m:\u001b[36m23\u001b[0m - \u001b[1mFinding optimal hyperparameters for method MCI\u001b[0m\n"
     ]
    },
    {
     "name": "stdout",
     "output_type": "stream",
     "text": [
      "Configuration file: ..\\..\\Datasets\\Imputed\\Merge_BL\\setup.yaml\n",
      "\n",
      "Preparing dataset 0...\n",
      "\n",
      "Configuration file: ..\\..\\Datasets\\Imputed\\Merge_BL\\setup.yaml\n",
      "\n",
      "Preparing dataset 0...\n",
      "\n",
      "Fitting 5 folds for each of 96 candidates, totalling 480 fits\n"
     ]
    },
    {
     "name": "stderr",
     "output_type": "stream",
     "text": [
      "\u001b[32m2024-05-31 15:28:42.470\u001b[0m | \u001b[1mINFO    \u001b[0m | \u001b[36m__main__\u001b[0m:\u001b[36mhyperparameter_search\u001b[0m:\u001b[36m27\u001b[0m - \u001b[1mBest parameters:\u001b[0m\n",
      "\u001b[32m2024-05-31 15:28:42.472\u001b[0m | \u001b[1mINFO    \u001b[0m | \u001b[36m__main__\u001b[0m:\u001b[36mhyperparameter_search\u001b[0m:\u001b[36m28\u001b[0m - \u001b[1mBest score:\u001b[0m\n",
      "\u001b[32m2024-05-31 15:28:42.490\u001b[0m | \u001b[1mINFO    \u001b[0m | \u001b[36m__main__\u001b[0m:\u001b[36m<module>\u001b[0m:\u001b[36m22\u001b[0m - \u001b[1mConfig: {'cohort': ['ADNI1', 'ADNI2', 'ADNI3', 'ADNIGO'], 'device': 'cpu', 'directory_name': 'Merge_BL', 'drop_empty_dx': True, 'fill_dx': True, 'missing_value_cutoff': 0.6, 'num_datasets': 20, 'num_iterations': 20, 'num_threads': 14, 'prepare_sa': True, 'quality': False, 'random_state': 1991, 'save_all_iterations': True, 'set_mean_match_candidates': 5, 'train_test_split': 0.2}\u001b[0m\n",
      "\u001b[32m2024-05-31 15:28:42.491\u001b[0m | \u001b[1mINFO    \u001b[0m | \u001b[36m__main__\u001b[0m:\u001b[36m<module>\u001b[0m:\u001b[36m23\u001b[0m - \u001b[1mFinding optimal hyperparameters for method All\u001b[0m\n"
     ]
    },
    {
     "name": "stdout",
     "output_type": "stream",
     "text": [
      "Fitting 5 folds for each of 96 candidates, totalling 480 fits\n"
     ]
    },
    {
     "name": "stderr",
     "output_type": "stream",
     "text": [
      "\u001b[32m2024-05-31 15:32:58.574\u001b[0m | \u001b[1mINFO    \u001b[0m | \u001b[36m__main__\u001b[0m:\u001b[36mhyperparameter_search\u001b[0m:\u001b[36m27\u001b[0m - \u001b[1mBest parameters:\u001b[0m\n",
      "\u001b[32m2024-05-31 15:32:58.578\u001b[0m | \u001b[1mINFO    \u001b[0m | \u001b[36m__main__\u001b[0m:\u001b[36mhyperparameter_search\u001b[0m:\u001b[36m28\u001b[0m - \u001b[1mBest score:\u001b[0m\n"
     ]
    }
   ],
   "source": [
    "path = \"../../Datasets/Imputed/Merge_BL/\"\n",
    "dfs_train_mci, _, config = post_imputation_adni(path, \n",
    "                                                   only_first=True, \n",
    "                                                   verbose=True,\n",
    "                                                   dxs=[1])\n",
    "\n",
    "dfs_train, _, _ = post_imputation_adni(path, \n",
    "                                                   only_first=True, \n",
    "                                                   verbose=True,\n",
    "                                                   dxs=[0, 1])\n",
    "\n",
    "\n",
    "datasets =  [dfs_train_mci[0], dfs_train[0]]\n",
    "names = ['MCI', 'All']\n",
    "params = []\n",
    "scores = []\n",
    "\n",
    "# dfs_train, dfs_test, config_impute = prepare_dataset(path)\n",
    "\n",
    "for name, df_train in zip(names, datasets):\n",
    "    \n",
    "    logger.info(f\"Config: {config}\")\n",
    "    logger.info(f\"Finding optimal hyperparameters for method {name}\")\n",
    "    param, score = hyperparameter_search(df_train, name)\n",
    "    \n",
    "    params.append(param)\n",
    "    scores.append(score)\n"
   ]
  }
 ],
 "metadata": {
  "kernelspec": {
   "display_name": "Python 3",
   "language": "python",
   "name": "python3"
  },
  "language_info": {
   "codemirror_mode": {
    "name": "ipython",
    "version": 3
   },
   "file_extension": ".py",
   "mimetype": "text/x-python",
   "name": "python",
   "nbconvert_exporter": "python",
   "pygments_lexer": "ipython3",
   "version": "3.11.6"
  }
 },
 "nbformat": 4,
 "nbformat_minor": 2
}
